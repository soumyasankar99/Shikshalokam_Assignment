{
  "nbformat": 4,
  "nbformat_minor": 0,
  "metadata": {
    "colab": {
      "provenance": []
    },
    "kernelspec": {
      "name": "python3",
      "display_name": "Python 3"
    },
    "language_info": {
      "name": "python"
    }
  },
  "cells": [
    {
      "cell_type": "markdown",
      "source": [
        "Assignment 1:\n",
        "\n",
        "Given a string s and a number x, print the shortest substrings which start and end with the same character and have lengths greater than or equal to x. If multiple substrings exist with the same shortest length, print them all.\n",
        "\n",
        "Eg:\n",
        "\n",
        "s: abccdbacca  \n",
        "\tx: 3\t\tAnswer: acca\n",
        "\n",
        "x: 4\t\tAnswer: acca\n",
        "\n",
        "x: 5\t\tAnswer: bccdb cdbac\n",
        "\n",
        "x: 6 \t\tAnswer:  abccdba\n",
        "\n",
        "x: 7\t\tAnswer: abccdba\n",
        "\n",
        "x: 8\t\tAnswer: not-found"
      ],
      "metadata": {
        "id": "ZXbmiIzckYM5"
      }
    },
    {
      "cell_type": "code",
      "source": [
        "def shortest_substrings(s, x):\n",
        "    result = []\n",
        "\n",
        "    for i in range(len(s)):\n",
        "        for j in range(i + x, len(s) + 1):\n",
        "            substring = s[i:j]\n",
        "\n",
        "            if substring[0] == substring[-1] and len(substring) >= x:\n",
        "                result.append(substring)\n",
        "\n",
        "    if not result:\n",
        "        print(\"not-found\")\n",
        "    else:\n",
        "        min_length = min(len(substr) for substr in result)\n",
        "        shortest_substrings_list = [substr for substr in result if len(substr) == min_length]\n",
        "\n",
        "        print(\" \".join(shortest_substrings_list))\n",
        "\n",
        "# Examples\n",
        "examples = [\n",
        "    {\"x\": 3, \"answer\": \"acca\"},\n",
        "    {\"x\": 4, \"answer\": \"acca\"},\n",
        "    {\"x\": 5, \"answer\": \"bccdb cdbac\"},\n",
        "    {\"x\": 6, \"answer\": \"abccdba\"},\n",
        "    {\"x\": 7, \"answer\": \"abccdba\"},\n",
        "    {\"x\": 8, \"answer\": \"not-found\"}\n",
        "]\n",
        "\n",
        "s = str(input(\"Enter a string: \"))\n",
        "\n",
        "for example in examples:\n",
        "    x_value = example[\"x\"]\n",
        "    expected_answer = example[\"answer\"]\n",
        "\n",
        "    print(f\"For x = {x_value}, Answer:\", end=\" \")\n",
        "    shortest_substrings(s, x_value)\n",
        "    print(\"Expected:\", expected_answer)\n",
        "    print(\"=\" * 30)\n"
      ],
      "metadata": {
        "colab": {
          "base_uri": "https://localhost:8080/"
        },
        "id": "tPkMtTo9szk5",
        "outputId": "eb4a52d7-8224-4a11-8628-489c2b09c054"
      },
      "execution_count": 11,
      "outputs": [
        {
          "output_type": "stream",
          "name": "stdout",
          "text": [
            "Enter a string: abccdbacca\n",
            "For x = 3, Answer: acca\n",
            "Expected: acca\n",
            "==============================\n",
            "For x = 4, Answer: acca\n",
            "Expected: acca\n",
            "==============================\n",
            "For x = 5, Answer: bccdb cdbac\n",
            "Expected: bccdb cdbac\n",
            "==============================\n",
            "For x = 6, Answer: ccdbac cdbacc\n",
            "Expected: abccdba\n",
            "==============================\n",
            "For x = 7, Answer: abccdba ccdbacc\n",
            "Expected: abccdba\n",
            "==============================\n",
            "For x = 8, Answer: abccdbacca\n",
            "Expected: not-found\n",
            "==============================\n"
          ]
        }
      ]
    },
    {
      "cell_type": "markdown",
      "source": [
        "**Assignment 2:**\n",
        "\n",
        "Given a string s, find the ASCII value of each character iteratively. If the ASCII value is even, increment the next character by (ASCII_value % 7). If the ascii value is odd, decrement the previous character by (ASCII_value % 5). Output the newly formed string.\n",
        "\n",
        "Note:\n",
        "* If a character has already been changed once, do not change that character again.\n",
        "* If the new number is an invalid ASCII value, replace it with 83.\n",
        "\n",
        "Eg:\n",
        "\n",
        "s: sHQen}\n",
        "ASCII: 115-72-81-101-110-125\n",
        "\n",
        "\n",
        "* First pass (115): No previous character.\n",
        "\t115-72-81-101-110-125\n",
        "\n",
        "* Second pass (72): Increment the next character by (72%7)\n",
        "\t115-72-83-101-110-125\n",
        "\n",
        "* Third pass(83): Decrement previous character by (83%5)\n",
        "\t115-69-83-101-110-125\n",
        "\n",
        "\n",
        "* Fourth pass (101): Previous character already changed once.\n",
        "\t115-69-83-101-110-125\n",
        "\n",
        "* Fifth pass(110): Invalid ASCII value.\n",
        "\t115-69-83-101-110-83\n",
        "\n",
        "* Sixth pass(83):\n",
        "\t115-69-83-101-107-83\n",
        "\n",
        "* Final Answer:\n",
        "\t115-69-83-101-107-83 => sESekS\n"
      ],
      "metadata": {
        "id": "6siJTd4XtV0x"
      }
    },
    {
      "cell_type": "code",
      "source": [
        "def transform_string(s):\n",
        "    result = []\n",
        "    changed_indices = set()\n",
        "\n",
        "    for i, char in enumerate(s):\n",
        "        if i not in changed_indices:\n",
        "            ascii_value = ord(char)\n",
        "\n",
        "            if ascii_value % 2 == 0:\n",
        "                next_char = chr(ascii_value + (ascii_value % 7))\n",
        "                result.append(next_char)\n",
        "                changed_indices.add(i + 1)  # Increment the next character\n",
        "\n",
        "            elif ascii_value % 2 == 1:\n",
        "                prev_char = chr(ascii_value - (ascii_value % 5))\n",
        "                result.append(prev_char)\n",
        "                changed_indices.add(i - 1)  # Decrement the previous character\n",
        "\n",
        "    # Handle characters that have not been changed\n",
        "    for i, char in enumerate(s):\n",
        "        if i not in changed_indices:\n",
        "            result.append(char)\n",
        "\n",
        "    return \"\".join(result)\n",
        "\n",
        "# Example usage:\n",
        "s = str(input(\"Enter a string of your choice: \"))\n",
        "transformed_string = transform_string(s)\n",
        "print(\"Original String:\", s)\n",
        "print(\"Transformed String:\", transformed_string)\n"
      ],
      "metadata": {
        "colab": {
          "base_uri": "https://localhost:8080/"
        },
        "id": "pOkGvOmntZxz",
        "outputId": "76340443-b0cd-4f4a-d8a9-ceea23a606ae"
      },
      "execution_count": 13,
      "outputs": [
        {
          "output_type": "stream",
          "name": "stdout",
          "text": [
            "Enter a string of your choice: sHQen}\n",
            "Original String: sHQen}\n",
            "Transformed String: sJdssHen\n"
          ]
        }
      ]
    },
    {
      "cell_type": "code",
      "source": [
        "def transform_string(s):\n",
        "    ascii_values = [ord(char) for char in s]\n",
        "    changed_indices = set()\n",
        "\n",
        "    for i in range(len(ascii_values)):\n",
        "        if i not in changed_indices:\n",
        "            current_ascii = ascii_values[i]\n",
        "\n",
        "            if current_ascii % 2 == 0:\n",
        "                if i + 1 < len(ascii_values):\n",
        "                    next_char_index = i + 1\n",
        "                    ascii_values[next_char_index] += (current_ascii % 7)\n",
        "                    changed_indices.add(next_char_index)\n",
        "\n",
        "            elif current_ascii % 2 == 1:\n",
        "                if i - 1 >= 0:\n",
        "                    prev_char_index = i - 1\n",
        "                    new_ascii = ascii_values[prev_char_index] - (current_ascii % 5)\n",
        "                    if new_ascii >= 0 and new_ascii <= 127:\n",
        "                        ascii_values[prev_char_index] = new_ascii\n",
        "                        changed_indices.add(prev_char_index)\n",
        "                    else:\n",
        "                        ascii_values[prev_char_index] = 83  # Replace with 83 for invalid ASCII\n",
        "\n",
        "    transformed_string = \"\".join(chr(ascii) for ascii in ascii_values)\n",
        "    return transformed_string\n",
        "\n",
        "# Example usage:\n",
        "s = str(input(\"Enter a string of your choice: \"))\n",
        "transformed_string = transform_string(s)\n",
        "print(\"Original String:\", s)\n",
        "print(\"Transformed String:\", transformed_string)\n"
      ],
      "metadata": {
        "colab": {
          "base_uri": "https://localhost:8080/"
        },
        "id": "xlh3YlQ4vDfh",
        "outputId": "2a3018ff-3e05-42fd-b323-d4a8360657e2"
      },
      "execution_count": 15,
      "outputs": [
        {
          "output_type": "stream",
          "name": "stdout",
          "text": [
            "Enter a string of your choice: sHQen}\n",
            "Original String: sHQen}\n",
            "Transformed String: sHRen\n"
          ]
        }
      ]
    }
  ]
}